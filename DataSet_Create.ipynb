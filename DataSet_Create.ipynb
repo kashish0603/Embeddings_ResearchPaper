{
  "nbformat": 4,
  "nbformat_minor": 0,
  "metadata": {
    "colab": {
      "provenance": []
    },
    "kernelspec": {
      "name": "python3",
      "display_name": "Python 3"
    },
    "language_info": {
      "name": "python"
    }
  },
  "cells": [
    {
      "cell_type": "code",
      "source": [
        "from google.colab import drive\n",
        "drive.mount('/content/drive')"
      ],
      "metadata": {
        "colab": {
          "base_uri": "https://localhost:8080/"
        },
        "id": "Y0p_8A8T7KNw",
        "outputId": "2627b1bc-7a2e-4e6b-aea5-f3357cc197f6"
      },
      "execution_count": null,
      "outputs": [
        {
          "output_type": "stream",
          "name": "stdout",
          "text": [
            "Mounted at /content/drive\n"
          ]
        }
      ]
    },
    {
      "cell_type": "code",
      "source": [
        "!pip install PyPDF2"
      ],
      "metadata": {
        "id": "H2gQsN9O7Lbq"
      },
      "execution_count": null,
      "outputs": []
    },
    {
      "cell_type": "code",
      "source": [
        "import pandas as pd"
      ],
      "metadata": {
        "id": "wEMOqlTW-bTM"
      },
      "execution_count": null,
      "outputs": []
    },
    {
      "cell_type": "code",
      "source": [
        "!pip install transformers"
      ],
      "metadata": {
        "id": "q6nWyXBLA0w1"
      },
      "execution_count": null,
      "outputs": []
    },
    {
      "cell_type": "code",
      "source": [
        "import PyPDF2\n",
        "import re\n",
        "from transformers import GPT2TokenizerFast\n",
        "import pandas as pd\n",
        "\n",
        "# Load PDF file\n",
        "pdf_file = open('/content/drive/MyDrive/Datasets/DeepFake_detection_algorithm_based_on_improved_vis (1).pdf', 'rb')\n",
        "pdf_reader = PyPDF2.PdfReader(pdf_file)\n",
        "\n",
        "# Extract text from PDF\n",
        "text = ''\n",
        "for page in range(len(pdf_reader.pages)):\n",
        "    text += pdf_reader.pages[page].extract_text()\n",
        "\n",
        "# Split text into sections by headings\n",
        "headings = re.findall(r'\\n(.+?)\\n', text)\n",
        "sections = re.split(r'\\n.+?\\n', text)\n",
        "\n",
        "# Remove empty strings from sections\n",
        "sections = [s.strip() for s in sections if s.strip()]\n",
        "\n",
        "# Tokenize sections\n",
        "tokenizer = GPT2TokenizerFast.from_pretrained('gpt2')\n",
        "tokens = [tokenizer.encode(s) for s in sections]\n",
        "\n",
        "# Create dataframe\n",
        "df = pd.DataFrame({\n",
        "    'title': ['Research Paper'] * len(headings),\n",
        "    'heading': headings,\n",
        "    'content': sections[0:433],\n",
        "    'token': tokens[0:433]\n",
        "})\n"
      ],
      "metadata": {
        "id": "Offal-N0VUy4"
      },
      "execution_count": null,
      "outputs": []
    },
    {
      "cell_type": "code",
      "source": [
        "df.head()"
      ],
      "metadata": {
        "colab": {
          "base_uri": "https://localhost:8080/",
          "height": 206
        },
        "id": "6nwNEiADWU3f",
        "outputId": "d31f7a38-3d3e-4146-fe5e-0d5d2eb27904"
      },
      "execution_count": null,
      "outputs": [
        {
          "output_type": "execute_result",
          "data": {
            "text/plain": [
              "            title                                            heading  \\\n",
              "0  Research Paper         https://doi.org/10.1007/s10489-022-03867-9   \n",
              "1  Research Paper                                        transformer   \n",
              "2  Research Paper                                 Accepted:7June2022   \n",
              "3  Research Paper                                           Abstract   \n",
              "4  Research Paper  networks or auto encoders that anyone can util...   \n",
              "\n",
              "                                             content  \\\n",
              "0                                AppliedIntelligence   \n",
              "1    DeepFakedetectionalgorithmbasedonimprovedvision   \n",
              "2            Young-JinHeo1·Woon-HaYeo1·Byung-GyuKim1   \n",
              "3  ©TheAuthor(s),underexclusivelicencetoSpringerS...   \n",
              "4  A DeepFake is a manipulated video made with ge...   \n",
              "\n",
              "                                               token  \n",
              "0                          [4677, 18511, 5317, 3480]  \n",
              "1  [29744, 37, 4335, 316, 478, 1538, 7727, 2022, ...  \n",
              "2  [20917, 12, 41, 259, 1544, 78, 16, 9129, 54, 2...  \n",
              "3  [16224, 464, 13838, 7, 82, 828, 917, 567, 87, ...  \n",
              "4  [32, 10766, 49233, 318, 257, 25036, 2008, 925,...  "
            ],
            "text/html": [
              "\n",
              "  <div id=\"df-c046f275-dd27-4f45-8035-ff85ba043280\">\n",
              "    <div class=\"colab-df-container\">\n",
              "      <div>\n",
              "<style scoped>\n",
              "    .dataframe tbody tr th:only-of-type {\n",
              "        vertical-align: middle;\n",
              "    }\n",
              "\n",
              "    .dataframe tbody tr th {\n",
              "        vertical-align: top;\n",
              "    }\n",
              "\n",
              "    .dataframe thead th {\n",
              "        text-align: right;\n",
              "    }\n",
              "</style>\n",
              "<table border=\"1\" class=\"dataframe\">\n",
              "  <thead>\n",
              "    <tr style=\"text-align: right;\">\n",
              "      <th></th>\n",
              "      <th>title</th>\n",
              "      <th>heading</th>\n",
              "      <th>content</th>\n",
              "      <th>token</th>\n",
              "    </tr>\n",
              "  </thead>\n",
              "  <tbody>\n",
              "    <tr>\n",
              "      <th>0</th>\n",
              "      <td>Research Paper</td>\n",
              "      <td>https://doi.org/10.1007/s10489-022-03867-9</td>\n",
              "      <td>AppliedIntelligence</td>\n",
              "      <td>[4677, 18511, 5317, 3480]</td>\n",
              "    </tr>\n",
              "    <tr>\n",
              "      <th>1</th>\n",
              "      <td>Research Paper</td>\n",
              "      <td>transformer</td>\n",
              "      <td>DeepFakedetectionalgorithmbasedonimprovedvision</td>\n",
              "      <td>[29744, 37, 4335, 316, 478, 1538, 7727, 2022, ...</td>\n",
              "    </tr>\n",
              "    <tr>\n",
              "      <th>2</th>\n",
              "      <td>Research Paper</td>\n",
              "      <td>Accepted:7June2022</td>\n",
              "      <td>Young-JinHeo1·Woon-HaYeo1·Byung-GyuKim1</td>\n",
              "      <td>[20917, 12, 41, 259, 1544, 78, 16, 9129, 54, 2...</td>\n",
              "    </tr>\n",
              "    <tr>\n",
              "      <th>3</th>\n",
              "      <td>Research Paper</td>\n",
              "      <td>Abstract</td>\n",
              "      <td>©TheAuthor(s),underexclusivelicencetoSpringerS...</td>\n",
              "      <td>[16224, 464, 13838, 7, 82, 828, 917, 567, 87, ...</td>\n",
              "    </tr>\n",
              "    <tr>\n",
              "      <th>4</th>\n",
              "      <td>Research Paper</td>\n",
              "      <td>networks or auto encoders that anyone can util...</td>\n",
              "      <td>A DeepFake is a manipulated video made with ge...</td>\n",
              "      <td>[32, 10766, 49233, 318, 257, 25036, 2008, 925,...</td>\n",
              "    </tr>\n",
              "  </tbody>\n",
              "</table>\n",
              "</div>\n",
              "      <button class=\"colab-df-convert\" onclick=\"convertToInteractive('df-c046f275-dd27-4f45-8035-ff85ba043280')\"\n",
              "              title=\"Convert this dataframe to an interactive table.\"\n",
              "              style=\"display:none;\">\n",
              "        \n",
              "  <svg xmlns=\"http://www.w3.org/2000/svg\" height=\"24px\"viewBox=\"0 0 24 24\"\n",
              "       width=\"24px\">\n",
              "    <path d=\"M0 0h24v24H0V0z\" fill=\"none\"/>\n",
              "    <path d=\"M18.56 5.44l.94 2.06.94-2.06 2.06-.94-2.06-.94-.94-2.06-.94 2.06-2.06.94zm-11 1L8.5 8.5l.94-2.06 2.06-.94-2.06-.94L8.5 2.5l-.94 2.06-2.06.94zm10 10l.94 2.06.94-2.06 2.06-.94-2.06-.94-.94-2.06-.94 2.06-2.06.94z\"/><path d=\"M17.41 7.96l-1.37-1.37c-.4-.4-.92-.59-1.43-.59-.52 0-1.04.2-1.43.59L10.3 9.45l-7.72 7.72c-.78.78-.78 2.05 0 2.83L4 21.41c.39.39.9.59 1.41.59.51 0 1.02-.2 1.41-.59l7.78-7.78 2.81-2.81c.8-.78.8-2.07 0-2.86zM5.41 20L4 18.59l7.72-7.72 1.47 1.35L5.41 20z\"/>\n",
              "  </svg>\n",
              "      </button>\n",
              "      \n",
              "  <style>\n",
              "    .colab-df-container {\n",
              "      display:flex;\n",
              "      flex-wrap:wrap;\n",
              "      gap: 12px;\n",
              "    }\n",
              "\n",
              "    .colab-df-convert {\n",
              "      background-color: #E8F0FE;\n",
              "      border: none;\n",
              "      border-radius: 50%;\n",
              "      cursor: pointer;\n",
              "      display: none;\n",
              "      fill: #1967D2;\n",
              "      height: 32px;\n",
              "      padding: 0 0 0 0;\n",
              "      width: 32px;\n",
              "    }\n",
              "\n",
              "    .colab-df-convert:hover {\n",
              "      background-color: #E2EBFA;\n",
              "      box-shadow: 0px 1px 2px rgba(60, 64, 67, 0.3), 0px 1px 3px 1px rgba(60, 64, 67, 0.15);\n",
              "      fill: #174EA6;\n",
              "    }\n",
              "\n",
              "    [theme=dark] .colab-df-convert {\n",
              "      background-color: #3B4455;\n",
              "      fill: #D2E3FC;\n",
              "    }\n",
              "\n",
              "    [theme=dark] .colab-df-convert:hover {\n",
              "      background-color: #434B5C;\n",
              "      box-shadow: 0px 1px 3px 1px rgba(0, 0, 0, 0.15);\n",
              "      filter: drop-shadow(0px 1px 2px rgba(0, 0, 0, 0.3));\n",
              "      fill: #FFFFFF;\n",
              "    }\n",
              "  </style>\n",
              "\n",
              "      <script>\n",
              "        const buttonEl =\n",
              "          document.querySelector('#df-c046f275-dd27-4f45-8035-ff85ba043280 button.colab-df-convert');\n",
              "        buttonEl.style.display =\n",
              "          google.colab.kernel.accessAllowed ? 'block' : 'none';\n",
              "\n",
              "        async function convertToInteractive(key) {\n",
              "          const element = document.querySelector('#df-c046f275-dd27-4f45-8035-ff85ba043280');\n",
              "          const dataTable =\n",
              "            await google.colab.kernel.invokeFunction('convertToInteractive',\n",
              "                                                     [key], {});\n",
              "          if (!dataTable) return;\n",
              "\n",
              "          const docLinkHtml = 'Like what you see? Visit the ' +\n",
              "            '<a target=\"_blank\" href=https://colab.research.google.com/notebooks/data_table.ipynb>data table notebook</a>'\n",
              "            + ' to learn more about interactive tables.';\n",
              "          element.innerHTML = '';\n",
              "          dataTable['output_type'] = 'display_data';\n",
              "          await google.colab.output.renderOutput(dataTable, element);\n",
              "          const docLink = document.createElement('div');\n",
              "          docLink.innerHTML = docLinkHtml;\n",
              "          element.appendChild(docLink);\n",
              "        }\n",
              "      </script>\n",
              "    </div>\n",
              "  </div>\n",
              "  "
            ]
          },
          "metadata": {},
          "execution_count": 66
        }
      ]
    },
    {
      "cell_type": "code",
      "source": [
        "len(df)"
      ],
      "metadata": {
        "colab": {
          "base_uri": "https://localhost:8080/"
        },
        "id": "rPBLIH2LXZav",
        "outputId": "904ceca3-e82a-4b55-c7fd-6223098f0f05"
      },
      "execution_count": null,
      "outputs": [
        {
          "output_type": "execute_result",
          "data": {
            "text/plain": [
              "433"
            ]
          },
          "metadata": {},
          "execution_count": 67
        }
      ]
    },
    {
      "cell_type": "code",
      "source": [
        "def count_tokens(text: str) -> int:\n",
        "    return len(tokenizer.encode(text))"
      ],
      "metadata": {
        "id": "Vmx8SFpvXeFs"
      },
      "execution_count": null,
      "outputs": []
    },
    {
      "cell_type": "code",
      "source": [
        "def reduce_long(\n",
        "    long_text: str, long_text_tokens: bool = False, max_len: int = 590\n",
        ") -> str:\n",
        "    \n",
        "    if not long_text_tokens:\n",
        "        long_text_tokens = count_tokens(long_text)\n",
        "    if long_text_tokens > max_len:\n",
        "        sentences = sent_tokenize(long_text.replace(\"\\n\", \" \"))\n",
        "        ntokens = 0\n",
        "        for i, sentence in enumerate(sentences):\n",
        "            ntokens += 1 + count_tokens(sentence)\n",
        "            if ntokens > max_len:\n",
        "                return \". \".join(sentences[:i][:-1]) + \".\"\n",
        "\n",
        "    return long_text"
      ],
      "metadata": {
        "id": "DGIfGpBqZMhf"
      },
      "execution_count": null,
      "outputs": []
    },
    {
      "cell_type": "code",
      "source": [
        "df['heading'].head(20)"
      ],
      "metadata": {
        "colab": {
          "base_uri": "https://localhost:8080/"
        },
        "id": "e3sHV5q1aBAo",
        "outputId": "01e38b16-a4a3-481d-d923-82c761f8c22a"
      },
      "execution_count": null,
      "outputs": [
        {
          "output_type": "execute_result",
          "data": {
            "text/plain": [
              "0            https://doi.org/10.1007/s10489-022-03867-9\n",
              "1                                           transformer\n",
              "2                                    Accepted:7June2022\n",
              "3                                              Abstract\n",
              "4     networks or auto encoders that anyone can util...\n",
              "5     overfitting and cannot consider the relation b...\n",
              "6     features. We combine vector-concatenated CNN f...\n",
              "7     By adding this distillation, the proposed mode...\n",
              "8     the proposed model correctly predicts 2,313 as...\n",
              "9     proposed model achieves a high performance of ...\n",
              "10                                        1Introduction\n",
              "11    bilities, deep learning models have been emplo...\n",
              "12    network (CNN) models are used in the fields of...\n",
              "13    have emerged as state-of-the-art (SOTA) method...\n",
              "14    ial network (GAN) face generation models perfo...\n",
              "15    GAN [ 7]. Deepfake videos can easily be made u...\n",
              "16                           /envelopebackByung-Gyu Kim\n",
              "17                                        Young-Jin Heo\n",
              "18                                          Woon-Ha Yeo\n",
              "19    1Sookmyung Women’s University, Seoul, Republic...\n",
              "Name: heading, dtype: object"
            ]
          },
          "metadata": {},
          "execution_count": 70
        }
      ]
    },
    {
      "cell_type": "code",
      "source": [
        "max_len = 500\n",
        "for c in sections:\n",
        "   ncontent_ntokens = [\n",
        "        count_tokens(reduce_long(c,max_len))\n",
        "        + 3\n",
        "        + count_tokens(\" \".join(h.split(\" \")[1:-1]))\n",
        "        - (1 if len(c) == 0 else 0)\n",
        "        for h, c in zip(headings, sections)\n",
        "    ]\n"
      ],
      "metadata": {
        "id": "ZFD2KTtJaJrU"
      },
      "execution_count": null,
      "outputs": []
    },
    {
      "cell_type": "code",
      "source": [
        "max_len = 500\n",
        "df = pd.DataFrame({\n",
        "    'title': ['Research Paper'] * 431,\n",
        "    'heading': headings[0:431],\n",
        "    'content': sections[0:431],\n",
        "    'token': ncontent_ntokens[0:431]\n",
        "})\n"
      ],
      "metadata": {
        "id": "UxFfeCvEcOwg"
      },
      "execution_count": null,
      "outputs": []
    },
    {
      "cell_type": "code",
      "source": [
        "len(df)"
      ],
      "metadata": {
        "colab": {
          "base_uri": "https://localhost:8080/"
        },
        "id": "1tKW5QyDeB0B",
        "outputId": "4ed924ce-7075-4ab7-def5-63fba6f81dd5"
      },
      "execution_count": null,
      "outputs": [
        {
          "output_type": "execute_result",
          "data": {
            "text/plain": [
              "431"
            ]
          },
          "metadata": {},
          "execution_count": 73
        }
      ]
    },
    {
      "cell_type": "code",
      "source": [
        "df.head()"
      ],
      "metadata": {
        "colab": {
          "base_uri": "https://localhost:8080/",
          "height": 206
        },
        "id": "jktd_WgGfE3G",
        "outputId": "56ab4a45-8f24-49f1-bb43-e54b02b6c730"
      },
      "execution_count": null,
      "outputs": [
        {
          "output_type": "execute_result",
          "data": {
            "text/plain": [
              "            title                                            heading  \\\n",
              "0  Research Paper         https://doi.org/10.1007/s10489-022-03867-9   \n",
              "1  Research Paper                                        transformer   \n",
              "2  Research Paper                                 Accepted:7June2022   \n",
              "3  Research Paper                                           Abstract   \n",
              "4  Research Paper  networks or auto encoders that anyone can util...   \n",
              "\n",
              "                                             content  token  \n",
              "0                                AppliedIntelligence      7  \n",
              "1    DeepFakedetectionalgorithmbasedonimprovedvision     16  \n",
              "2            Young-JinHeo1·Woon-HaYeo1·Byung-GyuKim1     26  \n",
              "3  ©TheAuthor(s),underexclusivelicencetoSpringerS...     33  \n",
              "4  A DeepFake is a manipulated video made with ge...     46  "
            ],
            "text/html": [
              "\n",
              "  <div id=\"df-f144181b-0ac8-45ce-b6aa-81951d3067e8\">\n",
              "    <div class=\"colab-df-container\">\n",
              "      <div>\n",
              "<style scoped>\n",
              "    .dataframe tbody tr th:only-of-type {\n",
              "        vertical-align: middle;\n",
              "    }\n",
              "\n",
              "    .dataframe tbody tr th {\n",
              "        vertical-align: top;\n",
              "    }\n",
              "\n",
              "    .dataframe thead th {\n",
              "        text-align: right;\n",
              "    }\n",
              "</style>\n",
              "<table border=\"1\" class=\"dataframe\">\n",
              "  <thead>\n",
              "    <tr style=\"text-align: right;\">\n",
              "      <th></th>\n",
              "      <th>title</th>\n",
              "      <th>heading</th>\n",
              "      <th>content</th>\n",
              "      <th>token</th>\n",
              "    </tr>\n",
              "  </thead>\n",
              "  <tbody>\n",
              "    <tr>\n",
              "      <th>0</th>\n",
              "      <td>Research Paper</td>\n",
              "      <td>https://doi.org/10.1007/s10489-022-03867-9</td>\n",
              "      <td>AppliedIntelligence</td>\n",
              "      <td>7</td>\n",
              "    </tr>\n",
              "    <tr>\n",
              "      <th>1</th>\n",
              "      <td>Research Paper</td>\n",
              "      <td>transformer</td>\n",
              "      <td>DeepFakedetectionalgorithmbasedonimprovedvision</td>\n",
              "      <td>16</td>\n",
              "    </tr>\n",
              "    <tr>\n",
              "      <th>2</th>\n",
              "      <td>Research Paper</td>\n",
              "      <td>Accepted:7June2022</td>\n",
              "      <td>Young-JinHeo1·Woon-HaYeo1·Byung-GyuKim1</td>\n",
              "      <td>26</td>\n",
              "    </tr>\n",
              "    <tr>\n",
              "      <th>3</th>\n",
              "      <td>Research Paper</td>\n",
              "      <td>Abstract</td>\n",
              "      <td>©TheAuthor(s),underexclusivelicencetoSpringerS...</td>\n",
              "      <td>33</td>\n",
              "    </tr>\n",
              "    <tr>\n",
              "      <th>4</th>\n",
              "      <td>Research Paper</td>\n",
              "      <td>networks or auto encoders that anyone can util...</td>\n",
              "      <td>A DeepFake is a manipulated video made with ge...</td>\n",
              "      <td>46</td>\n",
              "    </tr>\n",
              "  </tbody>\n",
              "</table>\n",
              "</div>\n",
              "      <button class=\"colab-df-convert\" onclick=\"convertToInteractive('df-f144181b-0ac8-45ce-b6aa-81951d3067e8')\"\n",
              "              title=\"Convert this dataframe to an interactive table.\"\n",
              "              style=\"display:none;\">\n",
              "        \n",
              "  <svg xmlns=\"http://www.w3.org/2000/svg\" height=\"24px\"viewBox=\"0 0 24 24\"\n",
              "       width=\"24px\">\n",
              "    <path d=\"M0 0h24v24H0V0z\" fill=\"none\"/>\n",
              "    <path d=\"M18.56 5.44l.94 2.06.94-2.06 2.06-.94-2.06-.94-.94-2.06-.94 2.06-2.06.94zm-11 1L8.5 8.5l.94-2.06 2.06-.94-2.06-.94L8.5 2.5l-.94 2.06-2.06.94zm10 10l.94 2.06.94-2.06 2.06-.94-2.06-.94-.94-2.06-.94 2.06-2.06.94z\"/><path d=\"M17.41 7.96l-1.37-1.37c-.4-.4-.92-.59-1.43-.59-.52 0-1.04.2-1.43.59L10.3 9.45l-7.72 7.72c-.78.78-.78 2.05 0 2.83L4 21.41c.39.39.9.59 1.41.59.51 0 1.02-.2 1.41-.59l7.78-7.78 2.81-2.81c.8-.78.8-2.07 0-2.86zM5.41 20L4 18.59l7.72-7.72 1.47 1.35L5.41 20z\"/>\n",
              "  </svg>\n",
              "      </button>\n",
              "      \n",
              "  <style>\n",
              "    .colab-df-container {\n",
              "      display:flex;\n",
              "      flex-wrap:wrap;\n",
              "      gap: 12px;\n",
              "    }\n",
              "\n",
              "    .colab-df-convert {\n",
              "      background-color: #E8F0FE;\n",
              "      border: none;\n",
              "      border-radius: 50%;\n",
              "      cursor: pointer;\n",
              "      display: none;\n",
              "      fill: #1967D2;\n",
              "      height: 32px;\n",
              "      padding: 0 0 0 0;\n",
              "      width: 32px;\n",
              "    }\n",
              "\n",
              "    .colab-df-convert:hover {\n",
              "      background-color: #E2EBFA;\n",
              "      box-shadow: 0px 1px 2px rgba(60, 64, 67, 0.3), 0px 1px 3px 1px rgba(60, 64, 67, 0.15);\n",
              "      fill: #174EA6;\n",
              "    }\n",
              "\n",
              "    [theme=dark] .colab-df-convert {\n",
              "      background-color: #3B4455;\n",
              "      fill: #D2E3FC;\n",
              "    }\n",
              "\n",
              "    [theme=dark] .colab-df-convert:hover {\n",
              "      background-color: #434B5C;\n",
              "      box-shadow: 0px 1px 3px 1px rgba(0, 0, 0, 0.15);\n",
              "      filter: drop-shadow(0px 1px 2px rgba(0, 0, 0, 0.3));\n",
              "      fill: #FFFFFF;\n",
              "    }\n",
              "  </style>\n",
              "\n",
              "      <script>\n",
              "        const buttonEl =\n",
              "          document.querySelector('#df-f144181b-0ac8-45ce-b6aa-81951d3067e8 button.colab-df-convert');\n",
              "        buttonEl.style.display =\n",
              "          google.colab.kernel.accessAllowed ? 'block' : 'none';\n",
              "\n",
              "        async function convertToInteractive(key) {\n",
              "          const element = document.querySelector('#df-f144181b-0ac8-45ce-b6aa-81951d3067e8');\n",
              "          const dataTable =\n",
              "            await google.colab.kernel.invokeFunction('convertToInteractive',\n",
              "                                                     [key], {});\n",
              "          if (!dataTable) return;\n",
              "\n",
              "          const docLinkHtml = 'Like what you see? Visit the ' +\n",
              "            '<a target=\"_blank\" href=https://colab.research.google.com/notebooks/data_table.ipynb>data table notebook</a>'\n",
              "            + ' to learn more about interactive tables.';\n",
              "          element.innerHTML = '';\n",
              "          dataTable['output_type'] = 'display_data';\n",
              "          await google.colab.output.renderOutput(dataTable, element);\n",
              "          const docLink = document.createElement('div');\n",
              "          docLink.innerHTML = docLinkHtml;\n",
              "          element.appendChild(docLink);\n",
              "        }\n",
              "      </script>\n",
              "    </div>\n",
              "  </div>\n",
              "  "
            ]
          },
          "metadata": {},
          "execution_count": 74
        }
      ]
    },
    {
      "cell_type": "code",
      "source": [
        "df = df.set_index([\"title\", \"heading\"])\n",
        "print(f\"{len(df)} rows in the data.\")\n",
        "df.sample(5)"
      ],
      "metadata": {
        "colab": {
          "base_uri": "https://localhost:8080/",
          "height": 255
        },
        "id": "eRct8Q4dfcpJ",
        "outputId": "c91a242c-64df-4006-9db2-cf0eba3a47eb"
      },
      "execution_count": null,
      "outputs": [
        {
          "output_type": "stream",
          "name": "stdout",
          "text": [
            "431 rows in the data.\n"
          ]
        },
        {
          "output_type": "execute_result",
          "data": {
            "text/plain": [
              "                                                                                                             content  \\\n",
              "title          heading                                                                                                 \n",
              "Research Paper Woon-Ha Yeo received the                            Content courtesy of Springer Nature, terms of ...   \n",
              "               Member for the International Journal of Soft Co...  journals, including IEEE, ACM, Elsevier, Sprin...   \n",
              "               unsuitable features, they affect the specific a...  each element to find the deeply related parts....   \n",
              "               Section 3.2.4 .                                     illustrate that how the input consists in Sect...   \n",
              "               Her research interests include                                                Co., Republic of Korea.   \n",
              "\n",
              "                                                                   token  \n",
              "title          heading                                                    \n",
              "Research Paper Woon-Ha Yeo received the                               29  \n",
              "               Member for the International Journal of Soft Co...     55  \n",
              "               unsuitable features, they affect the specific a...     33  \n",
              "               Section 3.2.4 .                                        34  \n",
              "               Her research interests include                         11  "
            ],
            "text/html": [
              "\n",
              "  <div id=\"df-41e5f1bc-830b-433f-b8f2-5d66a6eab292\">\n",
              "    <div class=\"colab-df-container\">\n",
              "      <div>\n",
              "<style scoped>\n",
              "    .dataframe tbody tr th:only-of-type {\n",
              "        vertical-align: middle;\n",
              "    }\n",
              "\n",
              "    .dataframe tbody tr th {\n",
              "        vertical-align: top;\n",
              "    }\n",
              "\n",
              "    .dataframe thead th {\n",
              "        text-align: right;\n",
              "    }\n",
              "</style>\n",
              "<table border=\"1\" class=\"dataframe\">\n",
              "  <thead>\n",
              "    <tr style=\"text-align: right;\">\n",
              "      <th></th>\n",
              "      <th></th>\n",
              "      <th>content</th>\n",
              "      <th>token</th>\n",
              "    </tr>\n",
              "    <tr>\n",
              "      <th>title</th>\n",
              "      <th>heading</th>\n",
              "      <th></th>\n",
              "      <th></th>\n",
              "    </tr>\n",
              "  </thead>\n",
              "  <tbody>\n",
              "    <tr>\n",
              "      <th rowspan=\"5\" valign=\"top\">Research Paper</th>\n",
              "      <th>Woon-Ha Yeo received the</th>\n",
              "      <td>Content courtesy of Springer Nature, terms of ...</td>\n",
              "      <td>29</td>\n",
              "    </tr>\n",
              "    <tr>\n",
              "      <th>Member for the International Journal of Soft Computing, Recent</th>\n",
              "      <td>journals, including IEEE, ACM, Elsevier, Sprin...</td>\n",
              "      <td>55</td>\n",
              "    </tr>\n",
              "    <tr>\n",
              "      <th>unsuitable features, they affect the specific area involved.Patches with a strong relationship with class tokens appear</th>\n",
              "      <td>each element to find the deeply related parts....</td>\n",
              "      <td>33</td>\n",
              "    </tr>\n",
              "    <tr>\n",
              "      <th>Section 3.2.4 .</th>\n",
              "      <td>illustrate that how the input consists in Sect...</td>\n",
              "      <td>34</td>\n",
              "    </tr>\n",
              "    <tr>\n",
              "      <th>Her research interests include</th>\n",
              "      <td>Co., Republic of Korea.</td>\n",
              "      <td>11</td>\n",
              "    </tr>\n",
              "  </tbody>\n",
              "</table>\n",
              "</div>\n",
              "      <button class=\"colab-df-convert\" onclick=\"convertToInteractive('df-41e5f1bc-830b-433f-b8f2-5d66a6eab292')\"\n",
              "              title=\"Convert this dataframe to an interactive table.\"\n",
              "              style=\"display:none;\">\n",
              "        \n",
              "  <svg xmlns=\"http://www.w3.org/2000/svg\" height=\"24px\"viewBox=\"0 0 24 24\"\n",
              "       width=\"24px\">\n",
              "    <path d=\"M0 0h24v24H0V0z\" fill=\"none\"/>\n",
              "    <path d=\"M18.56 5.44l.94 2.06.94-2.06 2.06-.94-2.06-.94-.94-2.06-.94 2.06-2.06.94zm-11 1L8.5 8.5l.94-2.06 2.06-.94-2.06-.94L8.5 2.5l-.94 2.06-2.06.94zm10 10l.94 2.06.94-2.06 2.06-.94-2.06-.94-.94-2.06-.94 2.06-2.06.94z\"/><path d=\"M17.41 7.96l-1.37-1.37c-.4-.4-.92-.59-1.43-.59-.52 0-1.04.2-1.43.59L10.3 9.45l-7.72 7.72c-.78.78-.78 2.05 0 2.83L4 21.41c.39.39.9.59 1.41.59.51 0 1.02-.2 1.41-.59l7.78-7.78 2.81-2.81c.8-.78.8-2.07 0-2.86zM5.41 20L4 18.59l7.72-7.72 1.47 1.35L5.41 20z\"/>\n",
              "  </svg>\n",
              "      </button>\n",
              "      \n",
              "  <style>\n",
              "    .colab-df-container {\n",
              "      display:flex;\n",
              "      flex-wrap:wrap;\n",
              "      gap: 12px;\n",
              "    }\n",
              "\n",
              "    .colab-df-convert {\n",
              "      background-color: #E8F0FE;\n",
              "      border: none;\n",
              "      border-radius: 50%;\n",
              "      cursor: pointer;\n",
              "      display: none;\n",
              "      fill: #1967D2;\n",
              "      height: 32px;\n",
              "      padding: 0 0 0 0;\n",
              "      width: 32px;\n",
              "    }\n",
              "\n",
              "    .colab-df-convert:hover {\n",
              "      background-color: #E2EBFA;\n",
              "      box-shadow: 0px 1px 2px rgba(60, 64, 67, 0.3), 0px 1px 3px 1px rgba(60, 64, 67, 0.15);\n",
              "      fill: #174EA6;\n",
              "    }\n",
              "\n",
              "    [theme=dark] .colab-df-convert {\n",
              "      background-color: #3B4455;\n",
              "      fill: #D2E3FC;\n",
              "    }\n",
              "\n",
              "    [theme=dark] .colab-df-convert:hover {\n",
              "      background-color: #434B5C;\n",
              "      box-shadow: 0px 1px 3px 1px rgba(0, 0, 0, 0.15);\n",
              "      filter: drop-shadow(0px 1px 2px rgba(0, 0, 0, 0.3));\n",
              "      fill: #FFFFFF;\n",
              "    }\n",
              "  </style>\n",
              "\n",
              "      <script>\n",
              "        const buttonEl =\n",
              "          document.querySelector('#df-41e5f1bc-830b-433f-b8f2-5d66a6eab292 button.colab-df-convert');\n",
              "        buttonEl.style.display =\n",
              "          google.colab.kernel.accessAllowed ? 'block' : 'none';\n",
              "\n",
              "        async function convertToInteractive(key) {\n",
              "          const element = document.querySelector('#df-41e5f1bc-830b-433f-b8f2-5d66a6eab292');\n",
              "          const dataTable =\n",
              "            await google.colab.kernel.invokeFunction('convertToInteractive',\n",
              "                                                     [key], {});\n",
              "          if (!dataTable) return;\n",
              "\n",
              "          const docLinkHtml = 'Like what you see? Visit the ' +\n",
              "            '<a target=\"_blank\" href=https://colab.research.google.com/notebooks/data_table.ipynb>data table notebook</a>'\n",
              "            + ' to learn more about interactive tables.';\n",
              "          element.innerHTML = '';\n",
              "          dataTable['output_type'] = 'display_data';\n",
              "          await google.colab.output.renderOutput(dataTable, element);\n",
              "          const docLink = document.createElement('div');\n",
              "          docLink.innerHTML = docLinkHtml;\n",
              "          element.appendChild(docLink);\n",
              "        }\n",
              "      </script>\n",
              "    </div>\n",
              "  </div>\n",
              "  "
            ]
          },
          "metadata": {},
          "execution_count": 75
        }
      ]
    },
    {
      "cell_type": "code",
      "source": [
        "!pip install openai"
      ],
      "metadata": {
        "id": "govFNeR6wFjW"
      },
      "execution_count": null,
      "outputs": []
    },
    {
      "cell_type": "code",
      "source": [
        "!pip install tiktoken"
      ],
      "metadata": {
        "id": "kEa9pi7NxPvK"
      },
      "execution_count": null,
      "outputs": []
    },
    {
      "cell_type": "code",
      "source": [
        "import numpy as np\n",
        "import openai\n",
        "import pandas as pd\n",
        "import pickle\n",
        "import tiktoken\n",
        "\n",
        "COMPLETIONS_MODEL = \"text-davinci-003\"\n",
        "EMBEDDING_MODEL = \"text-embedding-ada-002\""
      ],
      "metadata": {
        "id": "snTtk1ilxjEU"
      },
      "execution_count": null,
      "outputs": []
    },
    {
      "cell_type": "code",
      "source": [
        "def get_embedding(text: str, model: str=EMBEDDING_MODEL) -> list:\n",
        "    result = openai.Embedding.create(\n",
        "      model=model,\n",
        "      input=text\n",
        "    )\n",
        "    return result[\"data\"][0][\"embedding\"]\n",
        "\n",
        "def compute_doc_embeddings(df: pd.DataFrame) -> dict:\n",
        "   \n",
        "    return {\n",
        "        idx: get_embedding(r.content) for idx, r in df.iterrows()\n",
        "    }"
      ],
      "metadata": {
        "id": "l0hOTvq0xmqw"
      },
      "execution_count": null,
      "outputs": []
    },
    {
      "cell_type": "code",
      "source": [
        "def load_embeddings(fname: str) -> dict:\n",
        "    df = pd.read_csv(fname, header=0)\n",
        "    max_dim = max([int(c) for c in df.columns if c != \"title\" and c != \"heading\"])\n",
        "    return {\n",
        "           (r.title, r.heading): [r[str(i)] for i in range(max_dim + 1)] for _, r in df.iterrows()\n",
        "    }"
      ],
      "metadata": {
        "id": "phqwfMg7xoFo"
      },
      "execution_count": null,
      "outputs": []
    },
    {
      "cell_type": "code",
      "source": [
        "from getpass import getpass"
      ],
      "metadata": {
        "id": "Ax3vsKTbxqbE"
      },
      "execution_count": null,
      "outputs": []
    },
    {
      "cell_type": "code",
      "source": [
        "openai.api_key = getpass()"
      ],
      "metadata": {
        "colab": {
          "base_uri": "https://localhost:8080/"
        },
        "id": "ZGRvyBP2xs-k",
        "outputId": "1e73d203-31ca-4cf5-ff41-cd7acd97b778"
      },
      "execution_count": null,
      "outputs": [
        {
          "name": "stdout",
          "output_type": "stream",
          "text": [
            "··········\n"
          ]
        }
      ]
    },
    {
      "cell_type": "code",
      "source": [
        "from openai.embeddings_utils import get_embedding"
      ],
      "metadata": {
        "id": "EUx9A_x40epL"
      },
      "execution_count": null,
      "outputs": []
    },
    {
      "cell_type": "code",
      "source": [
        "def compute_doc_embeddings(df: pd.DataFrame) -> dict:\n",
        "   \n",
        "    return {\n",
        "        idx: get_embedding(r.content) for idx, r in df.iterrows()\n",
        "    }"
      ],
      "metadata": {
        "id": "HUb0P2UO05O1"
      },
      "execution_count": null,
      "outputs": []
    },
    {
      "cell_type": "code",
      "source": [
        "df.size"
      ],
      "metadata": {
        "colab": {
          "base_uri": "https://localhost:8080/"
        },
        "id": "20PCcACA1lJ1",
        "outputId": "2757bf28-be96-4a9a-8b68-f9bbeabca00c"
      },
      "execution_count": null,
      "outputs": [
        {
          "output_type": "execute_result",
          "data": {
            "text/plain": [
              "862"
            ]
          },
          "metadata": {},
          "execution_count": 56
        }
      ]
    },
    {
      "cell_type": "code",
      "source": [
        "import time\n",
        "import openai\n",
        "\n",
        "# Define a function that adds a delay to a Completion API call\n",
        "def delayed_completion(df, delay_in_seconds: float = 1):\n",
        "\n",
        "    # Sleep for the delay\n",
        "    time.sleep(delay_in_seconds)\n",
        "\n",
        "    # Call the Completion API and return the result\n",
        "    return compute_doc_embeddings(df)\n",
        "\n",
        "\n",
        "\n"
      ],
      "metadata": {
        "id": "5e8XbtxN3dsn"
      },
      "execution_count": null,
      "outputs": []
    },
    {
      "cell_type": "code",
      "source": [
        "rate_limit_per_minute = 20\n",
        "delay = 60.0 / rate_limit_per_minute\n",
        "\n",
        "document_embeddings = delayed_completion(df[:1], delay_in_seconds=delay)\n"
      ],
      "metadata": {
        "id": "HD2RG14z3i0o"
      },
      "execution_count": null,
      "outputs": []
    },
    {
      "cell_type": "code",
      "source": [
        "example_entry = list(document_embeddings.items())[0]\n",
        "print(f\"{example_entry[0]} : {example_entry[1][:5]}... ({len(example_entry[1])} entries)\")"
      ],
      "metadata": {
        "id": "ebhwhmOc7bKI"
      },
      "execution_count": null,
      "outputs": []
    },
    {
      "cell_type": "code",
      "source": [
        "def vector_similarity(x: list, y: list) -> float:\n",
        "    return np.dot(np.array(x), np.array(y))\n",
        "\n",
        "def order_document_sections_by_query_similarity(query: str, contexts: dict) -> list:\n",
        "    \n",
        "    query_embedding = get_embedding(query)\n",
        "    \n",
        "    document_similarities = sorted([\n",
        "        (vector_similarity(query_embedding, doc_embedding), doc_index) for doc_index, doc_embedding in contexts.items()\n",
        "    ], reverse=True)\n",
        "    \n",
        "    return document_similarities"
      ],
      "metadata": {
        "id": "Hk_fsUBXWEE2"
      },
      "execution_count": null,
      "outputs": []
    },
    {
      "cell_type": "code",
      "source": [
        "order_document_sections_by_query_similarity(\"What is deepfake according to this paper?\", document_embeddings)[:5]"
      ],
      "metadata": {
        "id": "tIiSpfF_WJuj"
      },
      "execution_count": null,
      "outputs": []
    },
    {
      "cell_type": "code",
      "source": [
        "MAX_SECTION_LEN = 500\n",
        "SEPARATOR = \"\\n* \"\n",
        "ENCODING = \"gpt2\"  # encoding for text-davinci-003\n",
        "\n",
        "encoding = tiktoken.get_encoding(ENCODING)\n",
        "separator_len = len(encoding.encode(SEPARATOR))\n",
        "\n",
        "f\"Context separator contains {separator_len} tokens\""
      ],
      "metadata": {
        "colab": {
          "base_uri": "https://localhost:8080/",
          "height": 36
        },
        "id": "P-56f8d5WO_H",
        "outputId": "9766fb4e-34f8-477b-b5ed-34c4a58e6cef"
      },
      "execution_count": null,
      "outputs": [
        {
          "output_type": "execute_result",
          "data": {
            "text/plain": [
              "'Context separator contains 3 tokens'"
            ],
            "application/vnd.google.colaboratory.intrinsic+json": {
              "type": "string"
            }
          },
          "metadata": {},
          "execution_count": 46
        }
      ]
    },
    {
      "cell_type": "code",
      "source": [
        "def construct_prompt(question: str, context_embeddings: dict, df: pd.DataFrame) -> str:\n",
        "   \n",
        "    most_relevant_document_sections = order_document_sections_by_query_similarity(question, context_embeddings)\n",
        "    \n",
        "    chosen_sections = []\n",
        "    chosen_sections_len = 0\n",
        "    chosen_sections_indexes = []\n",
        "     \n",
        "    for _, section_index in most_relevant_document_sections:\n",
        "        # Add contexts until we run out of space.        \n",
        "        document_section = df.loc[section_index]\n",
        "        \n",
        "        chosen_sections_len += document_section.tokens + separator_len\n",
        "        if chosen_sections_len > MAX_SECTION_LEN:\n",
        "            break\n",
        "            \n",
        "        chosen_sections.append(SEPARATOR + document_section.content.replace(\"\\n\", \" \"))\n",
        "        chosen_sections_indexes.append(str(section_index))\n",
        "            \n",
        "    # Useful diagnostic information\n",
        "    print(f\"Selected {len(chosen_sections)} document sections:\")\n",
        "    print(\"\\n\".join(chosen_sections_indexes))\n",
        "    \n",
        "    header = \"\"\"Answer the question as truthfully as possible using the provided context, and if the answer is not contained within the text below, say \"I don't know.\"\\n\\nContext:\\n\"\"\"\n",
        "    \n",
        "    return header + \"\".join(chosen_sections) + \"\\n\\n Q: \" + question + \"\\n A:\""
      ],
      "metadata": {
        "id": "3oB0cYlRWTiD"
      },
      "execution_count": null,
      "outputs": []
    },
    {
      "cell_type": "code",
      "source": [
        "prompt = construct_prompt(\n",
        "    \"What is the technology behind DeepFake?\",\n",
        "    document_embeddings,\n",
        "    df\n",
        ")\n",
        "\n",
        "print(\"===\\n\", prompt)"
      ],
      "metadata": {
        "id": "nhlfdbZ-WljT"
      },
      "execution_count": null,
      "outputs": []
    },
    {
      "cell_type": "code",
      "source": [
        "COMPLETIONS_API_PARAMS = {\n",
        "    \"temperature\": 0.0,\n",
        "    \"max_tokens\": 300,\n",
        "    \"model\": COMPLETIONS_MODEL,\n",
        "}"
      ],
      "metadata": {
        "id": "Lc_mxWGrWqbm"
      },
      "execution_count": null,
      "outputs": []
    },
    {
      "cell_type": "code",
      "source": [
        "def answer_query_with_context(\n",
        "    query: str,\n",
        "    df: pd.DataFrame,\n",
        "    document_embeddings: dict,\n",
        "    show_prompt: bool = False\n",
        ") -> str:\n",
        "    prompt = construct_prompt(\n",
        "        query,\n",
        "        document_embeddings,\n",
        "        df\n",
        "    )\n",
        "    \n",
        "    if show_prompt:\n",
        "        print(prompt)\n",
        "\n",
        "    response = openai.Completion.create(\n",
        "                prompt=prompt,\n",
        "                **COMPLETIONS_API_PARAMS\n",
        "            )\n",
        "\n",
        "    return response[\"choices\"][0][\"text\"].strip(\" \\n\")"
      ],
      "metadata": {
        "id": "x2wOZqX0WwOG"
      },
      "execution_count": null,
      "outputs": []
    },
    {
      "cell_type": "code",
      "source": [
        "query = \"What is the difference between Generator and Discriminator?\"\n",
        "answer = answer_query_with_context(query, df, document_embeddings)\n",
        "\n",
        "print(f\"\\nQ: {query}\\nA: {answer}\")"
      ],
      "metadata": {
        "id": "GcmZrHg_W6Q4"
      },
      "execution_count": null,
      "outputs": []
    },
    {
      "cell_type": "code",
      "source": [],
      "metadata": {
        "id": "modti8tBlc2c"
      },
      "execution_count": null,
      "outputs": []
    }
  ]
}